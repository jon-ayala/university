{
 "cells": [
  {
   "cell_type": "code",
   "execution_count": 1,
   "metadata": {},
   "outputs": [],
   "source": [
    "import numpy as np\n",
    "import pandas as pd"
   ]
  },
  {
   "cell_type": "code",
   "execution_count": 2,
   "metadata": {
    "scrolled": true
   },
   "outputs": [
    {
     "data": {
      "text/html": [
       "<div>\n",
       "<style scoped>\n",
       "    .dataframe tbody tr th:only-of-type {\n",
       "        vertical-align: middle;\n",
       "    }\n",
       "\n",
       "    .dataframe tbody tr th {\n",
       "        vertical-align: top;\n",
       "    }\n",
       "\n",
       "    .dataframe thead th {\n",
       "        text-align: right;\n",
       "    }\n",
       "</style>\n",
       "<table border=\"1\" class=\"dataframe\">\n",
       "  <thead>\n",
       "    <tr style=\"text-align: right;\">\n",
       "      <th></th>\n",
       "      <th>name</th>\n",
       "      <th>address</th>\n",
       "      <th>Website</th>\n",
       "      <th>Type</th>\n",
       "      <th>Size</th>\n",
       "    </tr>\n",
       "  </thead>\n",
       "  <tbody>\n",
       "    <tr>\n",
       "      <th>0</th>\n",
       "      <td>A T Still University of Health Sciences</td>\n",
       "      <td>800 W Jefferson, Kirksville, Missouri 63501</td>\n",
       "      <td>WWW.ATSU.EDU</td>\n",
       "      <td>4-year, Private not-for-profit</td>\n",
       "      <td>3480.0</td>\n",
       "    </tr>\n",
       "    <tr>\n",
       "      <th>1</th>\n",
       "      <td>Abilene Christian University</td>\n",
       "      <td>1600 Campus Court, Abilene, Texas 79699</td>\n",
       "      <td>www.acu.edu</td>\n",
       "      <td>4-year, Private not-for-profit</td>\n",
       "      <td>4669.0</td>\n",
       "    </tr>\n",
       "    <tr>\n",
       "      <th>2</th>\n",
       "      <td>Abraham Baldwin Agricultural College</td>\n",
       "      <td>2802 Moore Hwy, Tifton, Georgia 31793-2601</td>\n",
       "      <td>www.abac.edu</td>\n",
       "      <td>4-year, primarily associate's, Public</td>\n",
       "      <td>3600.0</td>\n",
       "    </tr>\n",
       "    <tr>\n",
       "      <th>3</th>\n",
       "      <td>Academy College</td>\n",
       "      <td>1101 E. 78th Street, Suite 100, Minneapolis, M...</td>\n",
       "      <td>www.academycollege.edu</td>\n",
       "      <td>4-year, primarily associate's, Private for-profit</td>\n",
       "      <td>165.0</td>\n",
       "    </tr>\n",
       "    <tr>\n",
       "      <th>4</th>\n",
       "      <td>Academy for Five Element Acupuncture</td>\n",
       "      <td>305 SE 2nd Ave, Gainesville, Florida 32601</td>\n",
       "      <td>www.acupuncturist.edu</td>\n",
       "      <td>4-year, Private not-for-profit</td>\n",
       "      <td>51.0</td>\n",
       "    </tr>\n",
       "    <tr>\n",
       "      <th>...</th>\n",
       "      <td>...</td>\n",
       "      <td>...</td>\n",
       "      <td>...</td>\n",
       "      <td>...</td>\n",
       "      <td>...</td>\n",
       "    </tr>\n",
       "    <tr>\n",
       "      <th>2902</th>\n",
       "      <td>Yo San University of Traditional Chinese Medicine</td>\n",
       "      <td>13315 W. Washington Boulevard, Los Angeles, Ca...</td>\n",
       "      <td>www.yosan.edu</td>\n",
       "      <td>4-year, Private not-for-profit</td>\n",
       "      <td>139.0</td>\n",
       "    </tr>\n",
       "    <tr>\n",
       "      <th>2903</th>\n",
       "      <td>York College</td>\n",
       "      <td>1125 E 8th St, York, Nebraska 68467-2699</td>\n",
       "      <td>www.york.edu/</td>\n",
       "      <td>4-year, Private not-for-profit</td>\n",
       "      <td>396.0</td>\n",
       "    </tr>\n",
       "    <tr>\n",
       "      <th>2904</th>\n",
       "      <td>York College Pennsylvania</td>\n",
       "      <td>Country Club Rd, York, Pennsylvania 17403-3651</td>\n",
       "      <td>www.ycp.edu</td>\n",
       "      <td>4-year, Private not-for-profit</td>\n",
       "      <td>5627.0</td>\n",
       "    </tr>\n",
       "    <tr>\n",
       "      <th>2905</th>\n",
       "      <td>Youngstown State University</td>\n",
       "      <td>One University Plaza, Youngstown, Ohio 44555-0001</td>\n",
       "      <td>www.ysu.edu</td>\n",
       "      <td>4-year, Public</td>\n",
       "      <td>13704.0</td>\n",
       "    </tr>\n",
       "    <tr>\n",
       "      <th>2906</th>\n",
       "      <td>Zion Bible College</td>\n",
       "      <td>320 South Main Street, Haverhill, Massachusett...</td>\n",
       "      <td>www.zbc.edu</td>\n",
       "      <td>4-year, Private not-for-profit</td>\n",
       "      <td>247.0</td>\n",
       "    </tr>\n",
       "  </tbody>\n",
       "</table>\n",
       "<p>2907 rows × 5 columns</p>\n",
       "</div>"
      ],
      "text/plain": [
       "                                                   name  \\\n",
       "0               A T Still University of Health Sciences   \n",
       "1                          Abilene Christian University   \n",
       "2                  Abraham Baldwin Agricultural College   \n",
       "3                                       Academy College   \n",
       "4                  Academy for Five Element Acupuncture   \n",
       "...                                                 ...   \n",
       "2902  Yo San University of Traditional Chinese Medicine   \n",
       "2903                                       York College   \n",
       "2904                          York College Pennsylvania   \n",
       "2905                        Youngstown State University   \n",
       "2906                                 Zion Bible College   \n",
       "\n",
       "                                                address  \\\n",
       "0           800 W Jefferson, Kirksville, Missouri 63501   \n",
       "1               1600 Campus Court, Abilene, Texas 79699   \n",
       "2            2802 Moore Hwy, Tifton, Georgia 31793-2601   \n",
       "3     1101 E. 78th Street, Suite 100, Minneapolis, M...   \n",
       "4            305 SE 2nd Ave, Gainesville, Florida 32601   \n",
       "...                                                 ...   \n",
       "2902  13315 W. Washington Boulevard, Los Angeles, Ca...   \n",
       "2903           1125 E 8th St, York, Nebraska 68467-2699   \n",
       "2904     Country Club Rd, York, Pennsylvania 17403-3651   \n",
       "2905  One University Plaza, Youngstown, Ohio 44555-0001   \n",
       "2906  320 South Main Street, Haverhill, Massachusett...   \n",
       "\n",
       "                     Website  \\\n",
       "0               WWW.ATSU.EDU   \n",
       "1                www.acu.edu   \n",
       "2               www.abac.edu   \n",
       "3     www.academycollege.edu   \n",
       "4      www.acupuncturist.edu   \n",
       "...                      ...   \n",
       "2902           www.yosan.edu   \n",
       "2903           www.york.edu/   \n",
       "2904             www.ycp.edu   \n",
       "2905             www.ysu.edu   \n",
       "2906             www.zbc.edu   \n",
       "\n",
       "                                                   Type     Size  \n",
       "0                        4-year, Private not-for-profit   3480.0  \n",
       "1                        4-year, Private not-for-profit   4669.0  \n",
       "2                 4-year, primarily associate's, Public   3600.0  \n",
       "3     4-year, primarily associate's, Private for-profit    165.0  \n",
       "4                        4-year, Private not-for-profit     51.0  \n",
       "...                                                 ...      ...  \n",
       "2902                     4-year, Private not-for-profit    139.0  \n",
       "2903                     4-year, Private not-for-profit    396.0  \n",
       "2904                     4-year, Private not-for-profit   5627.0  \n",
       "2905                                     4-year, Public  13704.0  \n",
       "2906                     4-year, Private not-for-profit    247.0  \n",
       "\n",
       "[2907 rows x 5 columns]"
      ]
     },
     "execution_count": 2,
     "metadata": {},
     "output_type": "execute_result"
    }
   ],
   "source": [
    "uni = pd.read_csv('~/Documents/GalvanizeDATA/assignments/universities.csv', delimiter = ',', header = 0)\n",
    "uni"
   ]
  },
  {
   "cell_type": "code",
   "execution_count": 3,
   "metadata": {},
   "outputs": [
    {
     "data": {
      "text/html": [
       "<div>\n",
       "<style scoped>\n",
       "    .dataframe tbody tr th:only-of-type {\n",
       "        vertical-align: middle;\n",
       "    }\n",
       "\n",
       "    .dataframe tbody tr th {\n",
       "        vertical-align: top;\n",
       "    }\n",
       "\n",
       "    .dataframe thead th {\n",
       "        text-align: right;\n",
       "    }\n",
       "</style>\n",
       "<table border=\"1\" class=\"dataframe\">\n",
       "  <thead>\n",
       "    <tr style=\"text-align: right;\">\n",
       "      <th></th>\n",
       "      <th>name</th>\n",
       "      <th>address</th>\n",
       "      <th>Website</th>\n",
       "      <th>Type</th>\n",
       "      <th>Size</th>\n",
       "    </tr>\n",
       "  </thead>\n",
       "  <tbody>\n",
       "    <tr>\n",
       "      <th>0</th>\n",
       "      <td>A T Still University of Health Sciences</td>\n",
       "      <td>800 W Jefferson, Kirksville, Missouri 63501</td>\n",
       "      <td>WWW.ATSU.EDU</td>\n",
       "      <td>4-year, Private not-for-profit</td>\n",
       "      <td>3480.0</td>\n",
       "    </tr>\n",
       "    <tr>\n",
       "      <th>1</th>\n",
       "      <td>Abilene Christian University</td>\n",
       "      <td>1600 Campus Court, Abilene, Texas 79699</td>\n",
       "      <td>www.acu.edu</td>\n",
       "      <td>4-year, Private not-for-profit</td>\n",
       "      <td>4669.0</td>\n",
       "    </tr>\n",
       "    <tr>\n",
       "      <th>2</th>\n",
       "      <td>Abraham Baldwin Agricultural College</td>\n",
       "      <td>2802 Moore Hwy, Tifton, Georgia 31793-2601</td>\n",
       "      <td>www.abac.edu</td>\n",
       "      <td>4-year, primarily associate's, Public</td>\n",
       "      <td>3600.0</td>\n",
       "    </tr>\n",
       "    <tr>\n",
       "      <th>3</th>\n",
       "      <td>Academy College</td>\n",
       "      <td>1101 E. 78th Street, Suite 100, Minneapolis, M...</td>\n",
       "      <td>www.academycollege.edu</td>\n",
       "      <td>4-year, primarily associate's, Private for-profit</td>\n",
       "      <td>165.0</td>\n",
       "    </tr>\n",
       "    <tr>\n",
       "      <th>4</th>\n",
       "      <td>Academy for Five Element Acupuncture</td>\n",
       "      <td>305 SE 2nd Ave, Gainesville, Florida 32601</td>\n",
       "      <td>www.acupuncturist.edu</td>\n",
       "      <td>4-year, Private not-for-profit</td>\n",
       "      <td>51.0</td>\n",
       "    </tr>\n",
       "    <tr>\n",
       "      <th>5</th>\n",
       "      <td>Academy of Art University</td>\n",
       "      <td>79 New Montgomery, San Francisco, California 9...</td>\n",
       "      <td>www.academyart.edu</td>\n",
       "      <td>4-year, Private for-profit</td>\n",
       "      <td>13181.0</td>\n",
       "    </tr>\n",
       "    <tr>\n",
       "      <th>6</th>\n",
       "      <td>Academy of Chinese Culture and Health Sciences</td>\n",
       "      <td>1601 Clay St, Oakland, California 94612</td>\n",
       "      <td>www.acchs.edu</td>\n",
       "      <td>4-year, Private not-for-profit</td>\n",
       "      <td>92.0</td>\n",
       "    </tr>\n",
       "    <tr>\n",
       "      <th>7</th>\n",
       "      <td>Academy of Oriental Medicine</td>\n",
       "      <td>2700 W Anderson Ln Ste 204, Austin, Texas 78757</td>\n",
       "      <td>www.aoma.edu</td>\n",
       "      <td>4-year, Private for-profit</td>\n",
       "      <td>207.0</td>\n",
       "    </tr>\n",
       "    <tr>\n",
       "      <th>8</th>\n",
       "      <td>Academy of Vocal Arts</td>\n",
       "      <td>1920 Spruce St, Philadelphia, Pennsylvania 191...</td>\n",
       "      <td>www.avaopera.org</td>\n",
       "      <td>4-year, Private not-for-profit</td>\n",
       "      <td>27.0</td>\n",
       "    </tr>\n",
       "    <tr>\n",
       "      <th>9</th>\n",
       "      <td>Acupuncture and Integrative Medicine College-B...</td>\n",
       "      <td>2550 Shattuck Ave, Berkeley, California 94704</td>\n",
       "      <td>www.aimc.edu</td>\n",
       "      <td>4-year, Private not-for-profit</td>\n",
       "      <td>181.0</td>\n",
       "    </tr>\n",
       "  </tbody>\n",
       "</table>\n",
       "</div>"
      ],
      "text/plain": [
       "                                                name  \\\n",
       "0            A T Still University of Health Sciences   \n",
       "1                       Abilene Christian University   \n",
       "2               Abraham Baldwin Agricultural College   \n",
       "3                                    Academy College   \n",
       "4               Academy for Five Element Acupuncture   \n",
       "5                          Academy of Art University   \n",
       "6     Academy of Chinese Culture and Health Sciences   \n",
       "7                       Academy of Oriental Medicine   \n",
       "8                              Academy of Vocal Arts   \n",
       "9  Acupuncture and Integrative Medicine College-B...   \n",
       "\n",
       "                                             address                 Website  \\\n",
       "0        800 W Jefferson, Kirksville, Missouri 63501            WWW.ATSU.EDU   \n",
       "1            1600 Campus Court, Abilene, Texas 79699             www.acu.edu   \n",
       "2         2802 Moore Hwy, Tifton, Georgia 31793-2601            www.abac.edu   \n",
       "3  1101 E. 78th Street, Suite 100, Minneapolis, M...  www.academycollege.edu   \n",
       "4         305 SE 2nd Ave, Gainesville, Florida 32601   www.acupuncturist.edu   \n",
       "5  79 New Montgomery, San Francisco, California 9...      www.academyart.edu   \n",
       "6            1601 Clay St, Oakland, California 94612           www.acchs.edu   \n",
       "7    2700 W Anderson Ln Ste 204, Austin, Texas 78757            www.aoma.edu   \n",
       "8  1920 Spruce St, Philadelphia, Pennsylvania 191...        www.avaopera.org   \n",
       "9      2550 Shattuck Ave, Berkeley, California 94704            www.aimc.edu   \n",
       "\n",
       "                                                Type     Size  \n",
       "0                     4-year, Private not-for-profit   3480.0  \n",
       "1                     4-year, Private not-for-profit   4669.0  \n",
       "2              4-year, primarily associate's, Public   3600.0  \n",
       "3  4-year, primarily associate's, Private for-profit    165.0  \n",
       "4                     4-year, Private not-for-profit     51.0  \n",
       "5                         4-year, Private for-profit  13181.0  \n",
       "6                     4-year, Private not-for-profit     92.0  \n",
       "7                         4-year, Private for-profit    207.0  \n",
       "8                     4-year, Private not-for-profit     27.0  \n",
       "9                     4-year, Private not-for-profit    181.0  "
      ]
     },
     "execution_count": 3,
     "metadata": {},
     "output_type": "execute_result"
    }
   ],
   "source": [
    "# Examining the DataFrame\n",
    "uni.head(10)"
   ]
  },
  {
   "cell_type": "code",
   "execution_count": 4,
   "metadata": {},
   "outputs": [
    {
     "data": {
      "text/html": [
       "<div>\n",
       "<style scoped>\n",
       "    .dataframe tbody tr th:only-of-type {\n",
       "        vertical-align: middle;\n",
       "    }\n",
       "\n",
       "    .dataframe tbody tr th {\n",
       "        vertical-align: top;\n",
       "    }\n",
       "\n",
       "    .dataframe thead th {\n",
       "        text-align: right;\n",
       "    }\n",
       "</style>\n",
       "<table border=\"1\" class=\"dataframe\">\n",
       "  <thead>\n",
       "    <tr style=\"text-align: right;\">\n",
       "      <th></th>\n",
       "      <th>name</th>\n",
       "      <th>address</th>\n",
       "      <th>Website</th>\n",
       "      <th>Type</th>\n",
       "      <th>Size</th>\n",
       "    </tr>\n",
       "  </thead>\n",
       "  <tbody>\n",
       "    <tr>\n",
       "      <th>2902</th>\n",
       "      <td>Yo San University of Traditional Chinese Medicine</td>\n",
       "      <td>13315 W. Washington Boulevard, Los Angeles, Ca...</td>\n",
       "      <td>www.yosan.edu</td>\n",
       "      <td>4-year, Private not-for-profit</td>\n",
       "      <td>139.0</td>\n",
       "    </tr>\n",
       "    <tr>\n",
       "      <th>2903</th>\n",
       "      <td>York College</td>\n",
       "      <td>1125 E 8th St, York, Nebraska 68467-2699</td>\n",
       "      <td>www.york.edu/</td>\n",
       "      <td>4-year, Private not-for-profit</td>\n",
       "      <td>396.0</td>\n",
       "    </tr>\n",
       "    <tr>\n",
       "      <th>2904</th>\n",
       "      <td>York College Pennsylvania</td>\n",
       "      <td>Country Club Rd, York, Pennsylvania 17403-3651</td>\n",
       "      <td>www.ycp.edu</td>\n",
       "      <td>4-year, Private not-for-profit</td>\n",
       "      <td>5627.0</td>\n",
       "    </tr>\n",
       "    <tr>\n",
       "      <th>2905</th>\n",
       "      <td>Youngstown State University</td>\n",
       "      <td>One University Plaza, Youngstown, Ohio 44555-0001</td>\n",
       "      <td>www.ysu.edu</td>\n",
       "      <td>4-year, Public</td>\n",
       "      <td>13704.0</td>\n",
       "    </tr>\n",
       "    <tr>\n",
       "      <th>2906</th>\n",
       "      <td>Zion Bible College</td>\n",
       "      <td>320 South Main Street, Haverhill, Massachusett...</td>\n",
       "      <td>www.zbc.edu</td>\n",
       "      <td>4-year, Private not-for-profit</td>\n",
       "      <td>247.0</td>\n",
       "    </tr>\n",
       "  </tbody>\n",
       "</table>\n",
       "</div>"
      ],
      "text/plain": [
       "                                                   name  \\\n",
       "2902  Yo San University of Traditional Chinese Medicine   \n",
       "2903                                       York College   \n",
       "2904                          York College Pennsylvania   \n",
       "2905                        Youngstown State University   \n",
       "2906                                 Zion Bible College   \n",
       "\n",
       "                                                address        Website  \\\n",
       "2902  13315 W. Washington Boulevard, Los Angeles, Ca...  www.yosan.edu   \n",
       "2903           1125 E 8th St, York, Nebraska 68467-2699  www.york.edu/   \n",
       "2904     Country Club Rd, York, Pennsylvania 17403-3651    www.ycp.edu   \n",
       "2905  One University Plaza, Youngstown, Ohio 44555-0001    www.ysu.edu   \n",
       "2906  320 South Main Street, Haverhill, Massachusett...    www.zbc.edu   \n",
       "\n",
       "                                Type     Size  \n",
       "2902  4-year, Private not-for-profit    139.0  \n",
       "2903  4-year, Private not-for-profit    396.0  \n",
       "2904  4-year, Private not-for-profit   5627.0  \n",
       "2905                  4-year, Public  13704.0  \n",
       "2906  4-year, Private not-for-profit    247.0  "
      ]
     },
     "execution_count": 4,
     "metadata": {},
     "output_type": "execute_result"
    }
   ],
   "source": [
    "uni.tail()"
   ]
  },
  {
   "cell_type": "code",
   "execution_count": 5,
   "metadata": {},
   "outputs": [
    {
     "data": {
      "text/plain": [
       "(2907, 5)"
      ]
     },
     "execution_count": 5,
     "metadata": {},
     "output_type": "execute_result"
    }
   ],
   "source": [
    "uni.shape"
   ]
  },
  {
   "cell_type": "code",
   "execution_count": 6,
   "metadata": {},
   "outputs": [
    {
     "data": {
      "text/plain": [
       "Index(['name', 'address', 'Website', 'Type', 'Size'], dtype='object')"
      ]
     },
     "execution_count": 6,
     "metadata": {},
     "output_type": "execute_result"
    }
   ],
   "source": [
    "uni.columns"
   ]
  },
  {
   "cell_type": "code",
   "execution_count": 7,
   "metadata": {},
   "outputs": [
    {
     "data": {
      "text/plain": [
       "RangeIndex(start=0, stop=2907, step=1)"
      ]
     },
     "execution_count": 7,
     "metadata": {},
     "output_type": "execute_result"
    }
   ],
   "source": [
    "uni.index"
   ]
  },
  {
   "cell_type": "code",
   "execution_count": 8,
   "metadata": {},
   "outputs": [
    {
     "name": "stdout",
     "output_type": "stream",
     "text": [
      "<class 'pandas.core.frame.DataFrame'>\n",
      "RangeIndex: 2907 entries, 0 to 2906\n",
      "Data columns (total 5 columns):\n",
      " #   Column   Non-Null Count  Dtype  \n",
      "---  ------   --------------  -----  \n",
      " 0   name     2907 non-null   object \n",
      " 1   address  2907 non-null   object \n",
      " 2   Website  2822 non-null   object \n",
      " 3   Type     2907 non-null   object \n",
      " 4   Size     2829 non-null   float64\n",
      "dtypes: float64(1), object(4)\n",
      "memory usage: 113.7+ KB\n"
     ]
    }
   ],
   "source": [
    "uni.info()"
   ]
  },
  {
   "cell_type": "code",
   "execution_count": 9,
   "metadata": {},
   "outputs": [
    {
     "data": {
      "text/html": [
       "<div>\n",
       "<style scoped>\n",
       "    .dataframe tbody tr th:only-of-type {\n",
       "        vertical-align: middle;\n",
       "    }\n",
       "\n",
       "    .dataframe tbody tr th {\n",
       "        vertical-align: top;\n",
       "    }\n",
       "\n",
       "    .dataframe thead th {\n",
       "        text-align: right;\n",
       "    }\n",
       "</style>\n",
       "<table border=\"1\" class=\"dataframe\">\n",
       "  <thead>\n",
       "    <tr style=\"text-align: right;\">\n",
       "      <th></th>\n",
       "      <th>Size</th>\n",
       "    </tr>\n",
       "  </thead>\n",
       "  <tbody>\n",
       "    <tr>\n",
       "      <th>count</th>\n",
       "      <td>2829.00000</td>\n",
       "    </tr>\n",
       "    <tr>\n",
       "      <th>mean</th>\n",
       "      <td>4374.88123</td>\n",
       "    </tr>\n",
       "    <tr>\n",
       "      <th>std</th>\n",
       "      <td>9256.38326</td>\n",
       "    </tr>\n",
       "    <tr>\n",
       "      <th>min</th>\n",
       "      <td>4.00000</td>\n",
       "    </tr>\n",
       "    <tr>\n",
       "      <th>25%</th>\n",
       "      <td>493.00000</td>\n",
       "    </tr>\n",
       "    <tr>\n",
       "      <th>50%</th>\n",
       "      <td>1478.00000</td>\n",
       "    </tr>\n",
       "    <tr>\n",
       "      <th>75%</th>\n",
       "      <td>4064.00000</td>\n",
       "    </tr>\n",
       "    <tr>\n",
       "      <th>max</th>\n",
       "      <td>301323.00000</td>\n",
       "    </tr>\n",
       "  </tbody>\n",
       "</table>\n",
       "</div>"
      ],
      "text/plain": [
       "               Size\n",
       "count    2829.00000\n",
       "mean     4374.88123\n",
       "std      9256.38326\n",
       "min         4.00000\n",
       "25%       493.00000\n",
       "50%      1478.00000\n",
       "75%      4064.00000\n",
       "max    301323.00000"
      ]
     },
     "execution_count": 9,
     "metadata": {},
     "output_type": "execute_result"
    }
   ],
   "source": [
    "uni.describe()"
   ]
  },
  {
   "cell_type": "code",
   "execution_count": 10,
   "metadata": {},
   "outputs": [
    {
     "data": {
      "text/plain": [
       "2907"
      ]
     },
     "execution_count": 10,
     "metadata": {},
     "output_type": "execute_result"
    }
   ],
   "source": [
    "len(uni)"
   ]
  },
  {
   "cell_type": "code",
   "execution_count": 11,
   "metadata": {},
   "outputs": [
    {
     "data": {
      "text/plain": [
       "4374.881230116649"
      ]
     },
     "execution_count": 11,
     "metadata": {},
     "output_type": "execute_result"
    }
   ],
   "source": [
    "uni['Size'].mean()"
   ]
  },
  {
   "cell_type": "code",
   "execution_count": 12,
   "metadata": {},
   "outputs": [
    {
     "data": {
      "text/plain": [
       "1478.0"
      ]
     },
     "execution_count": 12,
     "metadata": {},
     "output_type": "execute_result"
    }
   ],
   "source": [
    "uni['Size'].median()"
   ]
  },
  {
   "cell_type": "code",
   "execution_count": null,
   "metadata": {},
   "outputs": [],
   "source": []
  }
 ],
 "metadata": {
  "kernelspec": {
   "display_name": "Python 3",
   "language": "python",
   "name": "python3"
  },
  "language_info": {
   "codemirror_mode": {
    "name": "ipython",
    "version": 3
   },
   "file_extension": ".py",
   "mimetype": "text/x-python",
   "name": "python",
   "nbconvert_exporter": "python",
   "pygments_lexer": "ipython3",
   "version": "3.7.7"
  }
 },
 "nbformat": 4,
 "nbformat_minor": 4
}
